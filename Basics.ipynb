{
  "cells": [
    {
      "cell_type": "markdown",
      "metadata": {
        "id": "view-in-github",
        "colab_type": "text"
      },
      "source": [
        "<a href=\"https://colab.research.google.com/github/Aadi1612/python-basics/blob/main/Basics.ipynb\" target=\"_parent\"><img src=\"https://colab.research.google.com/assets/colab-badge.svg\" alt=\"Open In Colab\"/></a>"
      ]
    },
    {
      "cell_type": "code",
      "execution_count": null,
      "metadata": {
        "colab": {
          "base_uri": "https://localhost:8080/"
        },
        "id": "O2MS7cQDtlRj",
        "outputId": "4dade1d9-69c1-4889-ce25-439edab5911d"
      },
      "outputs": [
        {
          "output_type": "stream",
          "name": "stdout",
          "text": [
            "Hello\n"
          ]
        }
      ],
      "source": [
        "print(\"Hello\")"
      ]
    },
    {
      "cell_type": "code",
      "execution_count": null,
      "metadata": {
        "colab": {
          "base_uri": "https://localhost:8080/"
        },
        "id": "OGbf_i6LuDW0",
        "outputId": "837b0054-7a8a-4cb9-8ade-3821ec3ad0bd"
      },
      "outputs": [
        {
          "output_type": "stream",
          "name": "stdout",
          "text": [
            "20\n"
          ]
        }
      ],
      "source": [
        "age = 20 #'age' is a variable\n",
        "print(age)"
      ]
    },
    {
      "cell_type": "code",
      "execution_count": null,
      "metadata": {
        "colab": {
          "base_uri": "https://localhost:8080/"
        },
        "id": "5iTezxpmu6hE",
        "outputId": "5c23910e-0410-482e-8248-f5bcec083cb3"
      },
      "outputs": [
        {
          "output_type": "stream",
          "name": "stdout",
          "text": [
            "Name: John Smith Age:  20 Admission:  New\n"
          ]
        }
      ],
      "source": [
        "name = 'John Smith'\n",
        "ages = 20\n",
        "admission = 'New'\n",
        "print(\"Name:\", name, \"Age: \", ages,\"Admission: \", admission)"
      ]
    },
    {
      "cell_type": "code",
      "execution_count": null,
      "metadata": {
        "colab": {
          "base_uri": "https://localhost:8080/"
        },
        "id": "ajmUGFgPxSot",
        "outputId": "0b8bb9ae-7d09-4720-faea-f8a13b5da1b8"
      },
      "outputs": [
        {
          "output_type": "stream",
          "name": "stdout",
          "text": [
            "What is your name? Aadithya\n",
            "Hello Aadithya\n"
          ]
        }
      ],
      "source": [
        "names = input (\"What is your name? \") #'input' is a pre-defined function which stores values from user in string format(even if the iput is integer, or anyother data type)\n",
        "print (\"Hello \" + names) #concatination: here string 'hello' is aaded to another string 'names'"
      ]
    },
    {
      "cell_type": "markdown",
      "metadata": {
        "id": "XQmJzQyp55sR"
      },
      "source": [
        "**Conversion of DataTypes**"
      ]
    },
    {
      "cell_type": "code",
      "execution_count": null,
      "metadata": {
        "colab": {
          "base_uri": "https://localhost:8080/"
        },
        "id": "JTXdS-wr14AG",
        "outputId": "a54ce596-1f41-4ee4-e398-07e0d9e86878"
      },
      "outputs": [
        {
          "output_type": "stream",
          "name": "stdout",
          "text": [
            "Your Birth year: 2002\n",
            "Age:  22\n"
          ]
        }
      ],
      "source": [
        "birth_year = input(\"Your Birth year: \")\n",
        "#age = 2024 - birth_year is going to give an error as 'input' function stores values as string(birth_year) and doing operation with an inerger(2024) will end up with an error\n",
        "age = 2024 - int(birth_year)\n",
        "print(\"Age: \",age)"
      ]
    },
    {
      "cell_type": "markdown",
      "metadata": {
        "id": "c2L5ljE86FZ-"
      },
      "source": [
        "Another method"
      ]
    },
    {
      "cell_type": "code",
      "execution_count": null,
      "metadata": {
        "colab": {
          "base_uri": "https://localhost:8080/"
        },
        "id": "51HQxFQD5sB8",
        "outputId": "edbb0ebb-2504-4628-80aa-b992be712eaf"
      },
      "outputs": [
        {
          "output_type": "stream",
          "name": "stdout",
          "text": [
            "Your Birth year: 2002\n",
            "Age:  22\n"
          ]
        }
      ],
      "source": [
        "birth_year = int(input(\"Your Birth year: \"))\n",
        "age = 2024 - birth_year\n",
        "print(\"Age: \",age)"
      ]
    },
    {
      "cell_type": "code",
      "execution_count": null,
      "metadata": {
        "colab": {
          "base_uri": "https://localhost:8080/"
        },
        "id": "NDVTKGME21_i",
        "outputId": "7e7fe6de-0901-4130-cee0-8eb36b33f574"
      },
      "outputs": [
        {
          "output_type": "stream",
          "name": "stdout",
          "text": [
            "First number: 1\n",
            "Second number: 2\n",
            "Sum:  3.0\n"
          ]
        }
      ],
      "source": [
        "first_num = input(\"First number: \")\n",
        "second_num = input(\"Second number: \")\n",
        "sum = float(first_num) + float(second_num)\n",
        "print(\"Sum: \", sum)"
      ]
    },
    {
      "cell_type": "code",
      "execution_count": null,
      "metadata": {
        "colab": {
          "base_uri": "https://localhost:8080/"
        },
        "id": "k8wuMQtN4d2g",
        "outputId": "5c16ba46-05bb-4243-c5ed-b1bc5186a702"
      },
      "outputs": [
        {
          "output_type": "stream",
          "name": "stdout",
          "text": [
            "50.0\n",
            "50\n"
          ]
        }
      ],
      "source": [
        "age = 50\n",
        "Age = str(age)\n",
        "print(float(age))\n",
        "print(str(age))"
      ]
    },
    {
      "cell_type": "code",
      "execution_count": null,
      "metadata": {
        "colab": {
          "base_uri": "https://localhost:8080/"
        },
        "id": "FgoIcSyYCTFm",
        "outputId": "2ee320d2-d075-45f6-f2d1-4e0bf22e74e9"
      },
      "outputs": [
        {
          "output_type": "stream",
          "name": "stdout",
          "text": [
            "<class 'int'>\n",
            "<class 'str'>\n"
          ]
        }
      ],
      "source": [
        "print(type(age))\n",
        "print(type(Age))"
      ]
    },
    {
      "cell_type": "markdown",
      "metadata": {
        "id": "3dcfv-tPEFfU"
      },
      "source": [
        "**String**"
      ]
    },
    {
      "cell_type": "markdown",
      "metadata": {
        "id": "X9ZsJu2cJMxa"
      },
      "source": [
        "Slicing Strings"
      ]
    },
    {
      "cell_type": "code",
      "execution_count": null,
      "metadata": {
        "colab": {
          "base_uri": "https://localhost:8080/"
        },
        "id": "n0sASrxlDiGi",
        "outputId": "7653403b-a56c-48fb-e863-92b2b60f4efb"
      },
      "outputs": [
        {
          "output_type": "stream",
          "name": "stdout",
          "text": [
            "is a very \n",
            "this is a very\n",
            " expensive world!\n",
            "e worl\n"
          ]
        }
      ],
      "source": [
        "a = \"this is a very expensive world!\"\n",
        "print(a[5:15]) #normal, 15 not included\n",
        "print(a[:14]) #slicing from the start\n",
        "print(a[14:]) #slicing from the end\n",
        "print(a[-8:-2]) #negative slicing: slicing from back"
      ]
    },
    {
      "cell_type": "markdown",
      "metadata": {
        "id": "OHfWywtWLsnb"
      },
      "source": [
        "Methods in Strings:\n",
        "\n",
        "These are buildin and all string methods return new values. They do not change the original string."
      ]
    },
    {
      "cell_type": "code",
      "execution_count": null,
      "metadata": {
        "colab": {
          "base_uri": "https://localhost:8080/"
        },
        "id": "ixzIBJLdJfBD",
        "outputId": "a532d29e-2a51-4cb8-83f6-7717be6e724b"
      },
      "outputs": [
        {
          "output_type": "stream",
          "name": "stdout",
          "text": [
            "This is a very expensive world!\n",
            "this is a very expensive world!\n",
            "    this is a very expensive world!     \n",
            "4\n",
            "b'this is a very expensive world!'\n",
            "False\n",
            "this is a very expensive world!\n",
            "15\n",
            "10\n",
            "this is a verJ expensive world!\n",
            "THIS IS A VERY EXPENSIVE WORLD!\n",
            "this is a very expensive world!\n"
          ]
        }
      ],
      "source": [
        "print(a.capitalize()) # Capitalize the first letter of the string\n",
        "print(a.casefold()) # Converts string into lower case\n",
        "print(a.center(40)) # Center the string within a specified width (adjust as needed)\n",
        "print(a.count('e')) # Count the occurrences of the letter 'e' in the string\n",
        "print(a.encode()) # Encode the string using the default encoding\n",
        "print(a.endswith('d')) # Check if the string ends with the letter 'd'\n",
        "print(a.expandtabs(4)) # Expand tabs in the string (adjust tab size as needed)\n",
        "print(a.find('expensive')) # Find the index of the first occurrence of the word 'expensive'\n",
        "print(a.index('very')) # Find the index of the first occurrence of the word 'very'\n",
        "print(a.replace('y', 'J')) # Replace occurrences of 'y' with 'J' in the string\n",
        "print(a.upper()) # Convert the string to uppercase\n",
        "print(a.lower()) # Convert the string to lowercase"
      ]
    },
    {
      "cell_type": "markdown",
      "source": [
        "Find the index of the first occurrence of the word 'expensive'\n"
      ],
      "metadata": {
        "id": "Gd-QHQtkf8_g"
      }
    },
    {
      "cell_type": "code",
      "execution_count": null,
      "metadata": {
        "id": "zZxyndT8Qx1k",
        "colab": {
          "base_uri": "https://localhost:8080/"
        },
        "outputId": "f97b4617-4119-46f5-9514-6f57eefa4586"
      },
      "outputs": [
        {
          "output_type": "stream",
          "name": "stdout",
          "text": [
            "15\n",
            "True\n"
          ]
        }
      ],
      "source": [
        "print(a.find('expensive')) #returns the output as the index of the word\n",
        "print('expensive' in a) #returns the output in boolean value"
      ]
    },
    {
      "cell_type": "markdown",
      "source": [
        "Arithmetic operator"
      ],
      "metadata": {
        "id": "Yx4WLLKPhGap"
      }
    },
    {
      "cell_type": "code",
      "source": [
        "x = 30\n",
        "y = 10\n",
        "A = 5.2\n",
        "B = 2\n",
        "c = 7\n",
        "\n",
        "print(x + y) #addition\n",
        "print(x - y) #subtraction\n",
        "print(x * y) #multiplication\n",
        "print(x / y) #division(simple)\n",
        "print(x // y) #floor division\n",
        "print(x % c) # modulus\n",
        "print(c ** B) #exponentiation\n",
        "\n"
      ],
      "metadata": {
        "id": "GPxwsJugf5-f",
        "colab": {
          "base_uri": "https://localhost:8080/"
        },
        "outputId": "3a1160d3-f2af-4343-a861-7a1ab04aa013"
      },
      "execution_count": null,
      "outputs": [
        {
          "output_type": "stream",
          "name": "stdout",
          "text": [
            "40\n",
            "20\n",
            "300\n",
            "3.0\n",
            "3\n",
            "2\n",
            "49\n"
          ]
        }
      ]
    },
    {
      "cell_type": "code",
      "source": [
        "x = x + 10\n",
        "y += 10 #augmented assignment operator\n",
        "print(x)\n",
        "print(y)"
      ],
      "metadata": {
        "id": "l2bXfyKapclb",
        "colab": {
          "base_uri": "https://localhost:8080/"
        },
        "outputId": "5b96aa04-e135-42cf-8b1f-b20921a1f7fe"
      },
      "execution_count": null,
      "outputs": [
        {
          "output_type": "stream",
          "name": "stdout",
          "text": [
            "40\n",
            "20\n"
          ]
        }
      ]
    },
    {
      "cell_type": "markdown",
      "source": [
        "Logical Operator"
      ],
      "metadata": {
        "id": "H8KeDRrRxqj2"
      }
    },
    {
      "cell_type": "code",
      "source": [
        "price = 25\n",
        "print(price > 10 and price < 30) #both the statements are considered\n",
        "print (price < 10 or price < 30) #only one of statement id considered\n",
        "print(not price < 10) #reverse the result"
      ],
      "metadata": {
        "colab": {
          "base_uri": "https://localhost:8080/"
        },
        "id": "8PQtUCKFuhnH",
        "outputId": "602f8c4e-2165-49a5-8ffa-57ff9571a3ea"
      },
      "execution_count": null,
      "outputs": [
        {
          "output_type": "stream",
          "name": "stdout",
          "text": [
            "True\n",
            "True\n",
            "True\n"
          ]
        }
      ]
    },
    {
      "cell_type": "markdown",
      "source": [
        "IF statement"
      ],
      "metadata": {
        "id": "m2rAP66jFJvf"
      }
    },
    {
      "cell_type": "code",
      "source": [
        "temp = 35\n",
        "if temp > 30:\n",
        "  print(\"It's a hot day\")\n",
        "\n",
        "elif temp > 40:\n",
        "  print(\"Its a nice day\")\n",
        "\n",
        "print (\"Done\")"
      ],
      "metadata": {
        "id": "-IHCnALwwjVa",
        "colab": {
          "base_uri": "https://localhost:8080/"
        },
        "outputId": "edab3ec7-f253-4d7f-94a7-9f5d6ca5102a"
      },
      "execution_count": null,
      "outputs": [
        {
          "output_type": "stream",
          "name": "stdout",
          "text": [
            "It's a hot day\n",
            "Done\n"
          ]
        }
      ]
    },
    {
      "cell_type": "code",
      "source": [
        "weight = input(\"Weight: \")\n",
        "symbol = input(\"(K)g or (L)bs: \")\n",
        "if symbol == 'l' or symbol == 'L':\n",
        "  weight = float(weight) / 2.20462\n",
        "  print(\"weight in kgs: \",weight)\n",
        "\n",
        "elif  symbol =='k' or symbol == 'K':\n",
        "  print(\"Weight in kgs: \", weight)"
      ],
      "metadata": {
        "colab": {
          "base_uri": "https://localhost:8080/"
        },
        "id": "LLsE3s99FhPj",
        "outputId": "b9768ec1-b9a6-40ef-86c0-d9c0ca621985"
      },
      "execution_count": null,
      "outputs": [
        {
          "output_type": "stream",
          "name": "stdout",
          "text": [
            "Weight: 45\n",
            "(K)g or (L)bs: k\n",
            "Weight in kgs:  45\n"
          ]
        }
      ]
    },
    {
      "cell_type": "markdown",
      "source": [
        "WHILE statement"
      ],
      "metadata": {
        "id": "J8s_9bIhMlae"
      }
    },
    {
      "cell_type": "code",
      "source": [
        "i = 1\n",
        "while i <= 5:\n",
        "  print(i)\n",
        "  i = i + 1"
      ],
      "metadata": {
        "colab": {
          "base_uri": "https://localhost:8080/"
        },
        "id": "-vfbkZu4HJih",
        "outputId": "4af9024b-1fd7-4ba3-b8d8-0492d4080d78"
      },
      "execution_count": null,
      "outputs": [
        {
          "output_type": "stream",
          "name": "stdout",
          "text": [
            "1\n",
            "2\n",
            "3\n",
            "4\n",
            "5\n"
          ]
        }
      ]
    },
    {
      "cell_type": "code",
      "source": [
        "j = 1\n",
        "while j <= 10:\n",
        "  print(j * '*')\n",
        "  j = j + 1"
      ],
      "metadata": {
        "colab": {
          "base_uri": "https://localhost:8080/"
        },
        "id": "uPQXfrKeN0bk",
        "outputId": "ae20e2e0-a09a-4ff8-af90-40983d5ea9e8"
      },
      "execution_count": null,
      "outputs": [
        {
          "output_type": "stream",
          "name": "stdout",
          "text": [
            "*\n",
            "**\n",
            "***\n",
            "****\n",
            "*****\n",
            "******\n",
            "*******\n",
            "********\n",
            "*********\n",
            "**********\n"
          ]
        }
      ]
    },
    {
      "cell_type": "markdown",
      "source": [
        "**List**"
      ],
      "metadata": {
        "id": "0uodSVwSOb2l"
      }
    },
    {
      "cell_type": "code",
      "source": [
        "names = [\"John\", \"Bob\", \"Mosh\", \"Sam\", \"Mary\"]\n",
        "\n",
        "print(names)\n",
        "print(names[0]) #output will be of the index 0\n",
        "print(names[-1]) #output will be of the index 1 from the last\n",
        "\n",
        "names[1] = \"Jin\" #replace the element of index 1 without new element\n",
        "print(names)\n",
        "\n",
        "print(names[0:3]) #output will give the elements between the index 0 (included) and 3 (not included) only, but it doesn't modify the original list"
      ],
      "metadata": {
        "colab": {
          "base_uri": "https://localhost:8080/"
        },
        "id": "haZz9vwqOK4a",
        "outputId": "6dd96ce3-d341-4a42-d840-2af13786d5bc"
      },
      "execution_count": null,
      "outputs": [
        {
          "output_type": "stream",
          "name": "stdout",
          "text": [
            "['John', 'Bob', 'Mosh', 'Sam', 'Mary']\n",
            "John\n",
            "Mary\n",
            "['John', 'Jin', 'Mosh', 'Sam', 'Mary']\n",
            "['John', 'Jin', 'Mosh']\n"
          ]
        }
      ]
    },
    {
      "cell_type": "markdown",
      "source": [
        "List Method"
      ],
      "metadata": {
        "id": "79h4EBS2Vuak"
      }
    },
    {
      "cell_type": "code",
      "source": [
        "num = [1, 2, 3, 4, 5]\n",
        "num.append(6) # Add the number to the end of the list\n",
        "print(num)\n",
        "\n",
        "list = [8, 9, 7, 6] # To extend the current list with another list\n",
        "num.extend(list)\n",
        "\n",
        "num.insert(0, -8) # Add in the element in desired index\n",
        "print(num)\n",
        "\n",
        "num.remove(3) # Remove the element 3\n",
        "print(num)\n",
        "\n",
        "num.pop(3) # Remove the element with the index 3\n",
        "print(num)\n",
        "\n",
        "num.pop() # Remove the last element\n",
        "print(num)\n",
        "\n",
        "num.clear() # Remove all the element of the list. 'del' also works similar to clear\n",
        "print(num)\n",
        "\n",
        "print(1 in num) # Find the number, the output will be boolean\n",
        "\n",
        "print(len(num)) # Find the length or the number of element of the list\n",
        "\n",
        "print(type(num))"
      ],
      "metadata": {
        "id": "U-J9NCuPOsDu",
        "colab": {
          "base_uri": "https://localhost:8080/"
        },
        "outputId": "41b917fd-128a-4787-a277-5cdf87840612"
      },
      "execution_count": 1,
      "outputs": [
        {
          "output_type": "stream",
          "name": "stdout",
          "text": [
            "[1, 2, 3, 4, 5, 6]\n",
            "[-8, 1, 2, 3, 4, 5, 6, 8, 9, 7, 6]\n",
            "[-8, 1, 2, 4, 5, 6, 8, 9, 7, 6]\n",
            "[-8, 1, 2, 5, 6, 8, 9, 7, 6]\n",
            "[-8, 1, 2, 5, 6, 8, 9, 7]\n",
            "[]\n",
            "False\n",
            "0\n",
            "<class 'list'>\n"
          ]
        }
      ]
    },
    {
      "cell_type": "markdown",
      "source": [
        "For Loop"
      ],
      "metadata": {
        "id": "M5ybI3uh_wqL"
      }
    },
    {
      "cell_type": "code",
      "source": [
        "num = [1, 2, 3, 4, 5]\n",
        "for item in num:\n",
        "  print(item)"
      ],
      "metadata": {
        "colab": {
          "base_uri": "https://localhost:8080/"
        },
        "id": "Ao3wijLE96JR",
        "outputId": "a0df9a42-4dd6-4564-bc31-6d319d13ddf9"
      },
      "execution_count": null,
      "outputs": [
        {
          "output_type": "stream",
          "name": "stdout",
          "text": [
            "1\n",
            "2\n",
            "3\n",
            "4\n",
            "5\n"
          ]
        }
      ]
    },
    {
      "cell_type": "markdown",
      "source": [
        "While Loop"
      ],
      "metadata": {
        "id": "IwS2b8rHAZBZ"
      }
    },
    {
      "cell_type": "code",
      "source": [
        "i = 0\n",
        "while i < len(num):\n",
        "  print(num[i])\n",
        "  i = i + 1"
      ],
      "metadata": {
        "colab": {
          "base_uri": "https://localhost:8080/"
        },
        "id": "c8ZbEYIJ_9u1",
        "outputId": "e37ff0ea-0fde-4ca2-a0d7-434bb90566df"
      },
      "execution_count": null,
      "outputs": [
        {
          "output_type": "stream",
          "name": "stdout",
          "text": [
            "1\n",
            "2\n",
            "3\n",
            "4\n",
            "5\n"
          ]
        }
      ]
    },
    {
      "cell_type": "code",
      "source": [],
      "metadata": {
        "id": "b2VsfYNhASm-"
      },
      "execution_count": null,
      "outputs": []
    }
  ],
  "metadata": {
    "colab": {
      "provenance": [],
      "authorship_tag": "ABX9TyOVWY8SZhlHjNuQq/ixPRv9",
      "include_colab_link": true
    },
    "kernelspec": {
      "display_name": "Python 3",
      "name": "python3"
    },
    "language_info": {
      "name": "python"
    }
  },
  "nbformat": 4,
  "nbformat_minor": 0
}